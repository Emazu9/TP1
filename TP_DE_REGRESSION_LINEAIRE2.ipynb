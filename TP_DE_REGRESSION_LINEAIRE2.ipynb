{
 "cells": [
  {
   "cell_type": "code",
   "execution_count": 1,
   "id": "edf60c0a",
   "metadata": {},
   "outputs": [],
   "source": [
    "import joblib \n",
    "from sklearn.linear_model import LinearRegression"
   ]
  },
  {
   "cell_type": "code",
   "execution_count": 2,
   "id": "5be362ac",
   "metadata": {},
   "outputs": [],
   "source": [
    "regresseur=LinearRegression()"
   ]
  },
  {
   "cell_type": "code",
   "execution_count": 3,
   "id": "5f426641",
   "metadata": {},
   "outputs": [],
   "source": [
    "\n",
    "model=joblib.load('jonathan.pkl')\n",
    "test=[[4,90,1]]"
   ]
  },
  {
   "cell_type": "code",
   "execution_count": 4,
   "id": "4e2a4786",
   "metadata": {},
   "outputs": [
    {
     "data": {
      "text/plain": [
       "array([-226833.33333333])"
      ]
     },
     "execution_count": 4,
     "metadata": {},
     "output_type": "execute_result"
    }
   ],
   "source": [
    "pred=model.predict(test)\n",
    "pred"
   ]
  }
 ],
 "metadata": {
  "kernelspec": {
   "display_name": "Python 3 (ipykernel)",
   "language": "python",
   "name": "python3"
  },
  "language_info": {
   "codemirror_mode": {
    "name": "ipython",
    "version": 3
   },
   "file_extension": ".py",
   "mimetype": "text/x-python",
   "name": "python",
   "nbconvert_exporter": "python",
   "pygments_lexer": "ipython3",
   "version": "3.9.7"
  }
 },
 "nbformat": 4,
 "nbformat_minor": 5
}
